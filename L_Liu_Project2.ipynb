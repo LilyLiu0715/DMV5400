{
 "cells": [
  {
   "cell_type": "markdown",
   "metadata": {},
   "source": [
    "1. Introduction\n",
    "\n",
    "This is the data of 17007 strategy games on the Apple App Store. It was collected on the 3rd of August 2019, using the iTunes API and the App Store sitemap.\n",
    "\n",
    "The mobile games industry is worth billions of dollars, with companies spending vast amounts of money on the development and marketing of these games. I am curious if the user rating of a mobile game was influned by the price. "
   ]
  },
  {
   "cell_type": "markdown",
   "metadata": {},
   "source": [
    "2. Data Summary\n",
    "\n",
    "This data is from https://www.kaggle.com/tristan581/17k-apple-app-store-strategy-games/downloads/17k-apple-app-store-strategy-games.zip/3. \n",
    "\n",
    "This csv file has 13 attributes and 16847 unique values. The data type of ID, Rating, Rating Count, Price, Age Rating, Size and date are integers and numbers. Another arributes are strings."
   ]
  },
  {
   "cell_type": "markdown",
   "metadata": {},
   "source": [
    "3. Exploratory Data Analysis (EDA) and Inference:\n",
    "\n",
    "3.1. summary statistics"
   ]
  },
  {
   "cell_type": "code",
   "execution_count": 1,
   "metadata": {},
   "outputs": [],
   "source": [
    "import pandas as pd"
   ]
  },
  {
   "cell_type": "code",
   "execution_count": 7,
   "metadata": {},
   "outputs": [],
   "source": [
    "df=pd.read_csv('https://raw.githubusercontent.com/LilyLiu0715/DMV5400/master/appstore_games.csv')"
   ]
  },
  {
   "cell_type": "code",
   "execution_count": 6,
   "metadata": {},
   "outputs": [
    {
     "data": {
      "text/html": [
       "<div>\n",
       "<style scoped>\n",
       "    .dataframe tbody tr th:only-of-type {\n",
       "        vertical-align: middle;\n",
       "    }\n",
       "\n",
       "    .dataframe tbody tr th {\n",
       "        vertical-align: top;\n",
       "    }\n",
       "\n",
       "    .dataframe thead th {\n",
       "        text-align: right;\n",
       "    }\n",
       "</style>\n",
       "<table border=\"1\" class=\"dataframe\">\n",
       "  <thead>\n",
       "    <tr style=\"text-align: right;\">\n",
       "      <th></th>\n",
       "      <th>ID</th>\n",
       "      <th>Name</th>\n",
       "      <th>Average User Rating</th>\n",
       "      <th>User Rating Count</th>\n",
       "      <th>Price</th>\n",
       "      <th>Description</th>\n",
       "      <th>Developer</th>\n",
       "      <th>Age Rating</th>\n",
       "      <th>Languages</th>\n",
       "      <th>Size</th>\n",
       "      <th>Genres</th>\n",
       "      <th>Original Release Date</th>\n",
       "      <th>Current Version Release Date</th>\n",
       "    </tr>\n",
       "  </thead>\n",
       "  <tbody>\n",
       "    <tr>\n",
       "      <th>0</th>\n",
       "      <td>284921427</td>\n",
       "      <td>Sudoku</td>\n",
       "      <td>4.0</td>\n",
       "      <td>3553.0</td>\n",
       "      <td>2.99</td>\n",
       "      <td>Join over 21,000,000 of our fans and download ...</td>\n",
       "      <td>Mighty Mighty Good Games</td>\n",
       "      <td>4+</td>\n",
       "      <td>DA, NL, EN, FI, FR, DE, IT, JA, KO, NB, PL, PT...</td>\n",
       "      <td>15853568.0</td>\n",
       "      <td>Games, Strategy, Puzzle</td>\n",
       "      <td>11/7/08</td>\n",
       "      <td>30/05/2017</td>\n",
       "    </tr>\n",
       "    <tr>\n",
       "      <th>1</th>\n",
       "      <td>284926400</td>\n",
       "      <td>Reversi</td>\n",
       "      <td>3.5</td>\n",
       "      <td>284.0</td>\n",
       "      <td>1.99</td>\n",
       "      <td>The classic game of Reversi, also known as Oth...</td>\n",
       "      <td>Kiss The Machine</td>\n",
       "      <td>4+</td>\n",
       "      <td>EN</td>\n",
       "      <td>12328960.0</td>\n",
       "      <td>Games, Strategy, Board</td>\n",
       "      <td>11/7/08</td>\n",
       "      <td>17/05/2018</td>\n",
       "    </tr>\n",
       "    <tr>\n",
       "      <th>2</th>\n",
       "      <td>284946595</td>\n",
       "      <td>Morocco</td>\n",
       "      <td>3.0</td>\n",
       "      <td>8376.0</td>\n",
       "      <td>0.00</td>\n",
       "      <td>Play the classic strategy game Othello (also k...</td>\n",
       "      <td>Bayou Games</td>\n",
       "      <td>4+</td>\n",
       "      <td>EN</td>\n",
       "      <td>674816.0</td>\n",
       "      <td>Games, Board, Strategy</td>\n",
       "      <td>11/7/08</td>\n",
       "      <td>5/9/17</td>\n",
       "    </tr>\n",
       "    <tr>\n",
       "      <th>3</th>\n",
       "      <td>285755462</td>\n",
       "      <td>Sudoku (Free)</td>\n",
       "      <td>3.5</td>\n",
       "      <td>190394.0</td>\n",
       "      <td>0.00</td>\n",
       "      <td>Top 100 free app for over a year.\\nRated \"Best...</td>\n",
       "      <td>Mighty Mighty Good Games</td>\n",
       "      <td>4+</td>\n",
       "      <td>DA, NL, EN, FI, FR, DE, IT, JA, KO, NB, PL, PT...</td>\n",
       "      <td>21552128.0</td>\n",
       "      <td>Games, Strategy, Puzzle</td>\n",
       "      <td>23/07/2008</td>\n",
       "      <td>30/05/2017</td>\n",
       "    </tr>\n",
       "    <tr>\n",
       "      <th>4</th>\n",
       "      <td>285831220</td>\n",
       "      <td>Senet Deluxe</td>\n",
       "      <td>3.5</td>\n",
       "      <td>28.0</td>\n",
       "      <td>2.99</td>\n",
       "      <td>\"Senet Deluxe - The Ancient Game of Life and A...</td>\n",
       "      <td>RoGame Software</td>\n",
       "      <td>4+</td>\n",
       "      <td>DA, NL, EN, FR, DE, EL, IT, JA, KO, NO, PT, RU...</td>\n",
       "      <td>34689024.0</td>\n",
       "      <td>Games, Strategy, Board, Education</td>\n",
       "      <td>18/07/2008</td>\n",
       "      <td>22/07/2018</td>\n",
       "    </tr>\n",
       "  </tbody>\n",
       "</table>\n",
       "</div>"
      ],
      "text/plain": [
       "          ID           Name  Average User Rating  User Rating Count  Price  \\\n",
       "0  284921427         Sudoku                  4.0             3553.0   2.99   \n",
       "1  284926400        Reversi                  3.5              284.0   1.99   \n",
       "2  284946595        Morocco                  3.0             8376.0   0.00   \n",
       "3  285755462  Sudoku (Free)                  3.5           190394.0   0.00   \n",
       "4  285831220   Senet Deluxe                  3.5               28.0   2.99   \n",
       "\n",
       "                                         Description  \\\n",
       "0  Join over 21,000,000 of our fans and download ...   \n",
       "1  The classic game of Reversi, also known as Oth...   \n",
       "2  Play the classic strategy game Othello (also k...   \n",
       "3  Top 100 free app for over a year.\\nRated \"Best...   \n",
       "4  \"Senet Deluxe - The Ancient Game of Life and A...   \n",
       "\n",
       "                  Developer Age Rating  \\\n",
       "0  Mighty Mighty Good Games         4+   \n",
       "1          Kiss The Machine         4+   \n",
       "2               Bayou Games         4+   \n",
       "3  Mighty Mighty Good Games         4+   \n",
       "4           RoGame Software         4+   \n",
       "\n",
       "                                           Languages        Size  \\\n",
       "0  DA, NL, EN, FI, FR, DE, IT, JA, KO, NB, PL, PT...  15853568.0   \n",
       "1                                                 EN  12328960.0   \n",
       "2                                                 EN    674816.0   \n",
       "3  DA, NL, EN, FI, FR, DE, IT, JA, KO, NB, PL, PT...  21552128.0   \n",
       "4  DA, NL, EN, FR, DE, EL, IT, JA, KO, NO, PT, RU...  34689024.0   \n",
       "\n",
       "                              Genres Original Release Date  \\\n",
       "0            Games, Strategy, Puzzle               11/7/08   \n",
       "1             Games, Strategy, Board               11/7/08   \n",
       "2             Games, Board, Strategy               11/7/08   \n",
       "3            Games, Strategy, Puzzle            23/07/2008   \n",
       "4  Games, Strategy, Board, Education            18/07/2008   \n",
       "\n",
       "  Current Version Release Date  \n",
       "0                   30/05/2017  \n",
       "1                   17/05/2018  \n",
       "2                       5/9/17  \n",
       "3                   30/05/2017  \n",
       "4                   22/07/2018  "
      ]
     },
     "execution_count": 6,
     "metadata": {},
     "output_type": "execute_result"
    }
   ],
   "source": [
    "df.head()"
   ]
  },
  {
   "cell_type": "code",
   "execution_count": 8,
   "metadata": {},
   "outputs": [
    {
     "data": {
      "text/plain": [
       "count    7561.000000\n",
       "mean        4.060905\n",
       "std         0.751428\n",
       "min         1.000000\n",
       "25%         3.500000\n",
       "50%         4.500000\n",
       "75%         4.500000\n",
       "max         5.000000\n",
       "Name: Average User Rating, dtype: float64"
      ]
     },
     "execution_count": 8,
     "metadata": {},
     "output_type": "execute_result"
    }
   ],
   "source": [
    "df['Average User Rating'].describe()"
   ]
  },
  {
   "cell_type": "code",
   "execution_count": 10,
   "metadata": {},
   "outputs": [
    {
     "data": {
      "text/plain": [
       "count    16983.000000\n",
       "mean         0.813419\n",
       "std          7.835732\n",
       "min          0.000000\n",
       "25%          0.000000\n",
       "50%          0.000000\n",
       "75%          0.000000\n",
       "max        179.990000\n",
       "Name: Price, dtype: float64"
      ]
     },
     "execution_count": 10,
     "metadata": {},
     "output_type": "execute_result"
    }
   ],
   "source": [
    "df['Price'].describe()"
   ]
  },
  {
   "cell_type": "code",
   "execution_count": 12,
   "metadata": {},
   "outputs": [
    {
     "data": {
      "text/plain": [
       "count                       17007\n",
       "unique                       1004\n",
       "top       Games, Strategy, Puzzle\n",
       "freq                          778\n",
       "Name: Genres, dtype: object"
      ]
     },
     "execution_count": 12,
     "metadata": {},
     "output_type": "execute_result"
    }
   ],
   "source": [
    "df['Genres'].describe()"
   ]
  },
  {
   "cell_type": "code",
   "execution_count": 14,
   "metadata": {},
   "outputs": [
    {
     "data": {
      "text/plain": [
       "count      17007\n",
       "unique      3084\n",
       "top       2/9/16\n",
       "freq          75\n",
       "Name: Original Release Date, dtype: object"
      ]
     },
     "execution_count": 14,
     "metadata": {},
     "output_type": "execute_result"
    }
   ],
   "source": [
    "df['Original Release Date'].describe()"
   ]
  },
  {
   "cell_type": "code",
   "execution_count": 15,
   "metadata": {},
   "outputs": [
    {
     "data": {
      "text/plain": [
       "count      17007\n",
       "unique      2512\n",
       "top       1/8/19\n",
       "freq         118\n",
       "Name: Current Version Release Date, dtype: object"
      ]
     },
     "execution_count": 15,
     "metadata": {},
     "output_type": "execute_result"
    }
   ],
   "source": [
    "df['Current Version Release Date'].describe()"
   ]
  },
  {
   "cell_type": "markdown",
   "metadata": {},
   "source": [
    "3.2. graphical analysis "
   ]
  },
  {
   "cell_type": "code",
   "execution_count": 24,
   "metadata": {},
   "outputs": [],
   "source": [
    "# load the pyplot function from the matplotlib library\n",
    "import matplotlib.pyplot as plt\n",
    "\n",
    "# load numpy so that we can generate some sample data\n",
    "import numpy as np\n",
    "\n",
    "import seaborn as sns"
   ]
  },
  {
   "cell_type": "code",
   "execution_count": 52,
   "metadata": {},
   "outputs": [],
   "source": [
    "df_valid=df[df['User Rating Count'] > 1000]"
   ]
  },
  {
   "cell_type": "code",
   "execution_count": 53,
   "metadata": {},
   "outputs": [],
   "source": [
    "df_sort=df_valid.sort_values(\"Average User Rating\",ascending=False)"
   ]
  },
  {
   "cell_type": "code",
   "execution_count": 59,
   "metadata": {},
   "outputs": [],
   "source": [
    "df_graph=df_sort.head(100)"
   ]
  },
  {
   "cell_type": "code",
   "execution_count": 68,
   "metadata": {},
   "outputs": [
    {
     "data": {
      "text/plain": [
       "<seaborn.axisgrid.FacetGrid at 0x1a16c7af98>"
      ]
     },
     "execution_count": 68,
     "metadata": {},
     "output_type": "execute_result"
    },
    {
     "data": {
      "image/png": "[encoded data removed]",
      "text/plain": [
       "<Figure size 360x360 with 1 Axes>"
      ]
     },
     "metadata": {},
     "output_type": "display_data"
    }
   ],
   "source": [
    "sns.lmplot(x = 'Average User Rating', y = 'Price', data = df)"
   ]
  },
  {
   "cell_type": "code",
   "execution_count": 76,
   "metadata": {},
   "outputs": [
    {
     "data": {
      "image/png": "[encoded data removed]",
      "text/plain": [
       "<Figure size 432x288 with 1 Axes>"
      ]
     },
     "metadata": {},
     "output_type": "display_data"
    }
   ],
   "source": [
    "import matplotlib.pyplot as plt\n",
    "\n",
    "plt.scatter(df['Average User Rating'],df['Price'],color='red')\n",
    "\n",
    "plt.show()\n"
   ]
  },
  {
   "cell_type": "markdown",
   "metadata": {},
   "source": [
    " 3.3. Narrative describing the EDA findings\n",
    "    \n",
    "The results show that there is no correlation between the average user rating and the price of a mobile game."
   ]
  },
  {
   "cell_type": "markdown",
   "metadata": {},
   "source": [
    "4. Conclusion"
   ]
  },
  {
   "cell_type": "markdown",
   "metadata": {},
   "source": [
    "I used both Matplotlib and Seaborn to see if there is a correlation between the user rating and the price of a mobile game. The results show that mobile games have anther factors to affect user ratings other than the price. So the theory of rating and price on products is not implied in the market of mobile games."
   ]
  },
  {
   "cell_type": "code",
   "execution_count": null,
   "metadata": {},
   "outputs": [],
   "source": []
  }
 ],
 "metadata": {
  "kernelspec": {
   "display_name": "Python 3",
   "language": "python",
   "name": "python3"
  },
  "language_info": {
   "codemirror_mode": {
    "name": "ipython",
    "version": 3
   },
   "file_extension": ".py",
   "mimetype": "text/x-python",
   "name": "python",
   "nbconvert_exporter": "python",
   "pygments_lexer": "ipython3",
   "version": "3.6.6"
  }
 },
 "nbformat": 4,
 "nbformat_minor": 2
}

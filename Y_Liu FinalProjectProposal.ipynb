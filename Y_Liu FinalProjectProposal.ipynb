{
 "cells": [
  {
   "cell_type": "markdown",
   "metadata": {},
   "source": [
    "# DAV 5400 Final Project Proposal Guidelines"
   ]
  },
  {
   "cell_type": "markdown",
   "metadata": {},
   "source": [
    "The proposal for the final project will be submitted in the form of a formal research proposal document. __Specifically, your proposal must include each of the sections outlined below__ and must be submitted in the form of a Jupyter Notebook that has been posted to your GitHub DAV5400 repository.\n",
    "\n",
    "### Please be sure to read the Final Project Checklist provided in the Final Project description document before submitting your proposal !!\n",
    "\n",
    "The Final Project Checklist contains a number of project requirements that you are required to satisfy as part of your Final Project work. __Please be sure that your proposed project will enable you to satisfy each of those requirements!!__\n",
    "\n",
    "<br>\n",
    "<br>\n",
    "\n",
    "\\*\\* If you are working as a team, be sure to include the name of each team member at the top of the document (prior to the \"Introduction\" section) and clearly explain what specific tasks each team member will be responsible for during your Final Project efforts.\n",
    "<br>\n",
    "<br>\n",
    "\n",
    "\\*\\* Also, please note that the initial draft of your proposal is due not later than __Sunday October 27__ and the final version of your proposal is due no later than __Wednesday November 20__. However, you are strongly encouraged to submit your proposal at any time prior to those dates: doing so will serve to increase the amount of time available to you for your Final Project efforts.\n",
    "\n"
   ]
  },
  {
   "cell_type": "markdown",
   "metadata": {},
   "source": [
    "## Introduction\n",
    "\n",
    "*This section should provide some context for the basis of the research questions you plan to answer without actually describing the research questions themselves. For example, if your research questions are focused on a health related issue, you might provide a brief summary of how many people are affected by that issue each year either regionally, nationally or globally, including any infection rate or mortality statistics you were able to gather. Basically, in the Introduction you are trying to make the reader understand why the research questions you are going to propose are relevant and should be of interest to them.*"
   ]
  },
  {
   "cell_type": "markdown",
   "metadata": {},
   "source": [
    "## Research Questions\n",
    "\n",
    "*Provide a single succinct sentence that describes each of your research questions. Then provide a paragraph or two explaining how the results of your research might be used/implemented in the \"real world\".*"
   ]
  },
  {
   "cell_type": "markdown",
   "metadata": {},
   "source": [
    "## Data to be Used\n",
    "\n",
    "*Clearly identify the sources of your data and explain the methods you will use to collect the data from those sources, e.g., \"Data from this source will be loaded into an SQL database..\" or \"Data will need to be collected from this source via scraping of a web page..\", etc.*"
   ]
  },
  {
   "cell_type": "markdown",
   "metadata": {},
   "source": [
    "## Approach\n",
    "\n",
    "*Explain how you plan to manage the data you are collecting: e.g., will you be storing it within some sort of database, etc.? Explain what types of statistical analysis you plan to utilize to help answer your research questions. Explain any graphics you plan to generate to help answer you research questions, e.g., \"..we will attempt to construct geoplots that will show how xxxxxx varies between counties within the state of Nevada..\", etc. The reader should come away with a clear understanding of how you plan to proceed with your work. Keep in mind that since this is a proposal, you need to be able to convince the reader that your proposed project is: a) realistic; and b) feasible within the time alloted for the project.*"
   ]
  },
  {
   "cell_type": "markdown",
   "metadata": {},
   "source": [
    "Introduction\n",
    "\n",
    "Economic freedom is benefit to the money growth in the current global market, but someone would argue that ecomomic is not good for the sound money and the government control should be enhanced to adjust the economic market. This is a hot topic especially in developing countries like China."
   ]
  },
  {
   "cell_type": "markdown",
   "metadata": {},
   "source": [
    "Research Question\n",
    "\n",
    " I would like to use the data to see which opoion is right and which factor can help money growth in the current global economy.\n",
    " \n",
    "If the data improve that economic freedom is related to the money growth and too much government control harmed the sound money. I think this would be a reference when government or organization want to make polices on the economic freedom. Also, I would take a deep look to research the two factors: legal system and property rights,regulation. I persume the two attributes are corelated to the sound money. This would provide the detailed suggestion to the governments and organizations which aspects that they might want to focus on."
   ]
  },
  {
   "cell_type": "markdown",
   "metadata": {},
   "source": [
    "Data to be used\n",
    "\n",
    "The data come from: https://github.com/awesomedata/awesome-public-datasets#economics and \n",
    "https://www.fraserinstitute.org/studies/economic-freedom.\n",
    "\n",
    "Data from this source will be downloaded into EXCEL."
   ]
  },
  {
   "cell_type": "markdown",
   "metadata": {},
   "source": [
    "Approach\n",
    "\n",
    "I will be storing it in SQL database. The linear regression will be used the prove the relationship between the economic freedom and sound money, the sound money and legal system rights, the sound money and regulation. I will attempt to construct line plots what will show the corelation betweent these factors."
   ]
  },
  {
   "cell_type": "code",
   "execution_count": null,
   "metadata": {},
   "outputs": [],
   "source": []
  }
 ],
 "metadata": {
  "kernelspec": {
   "display_name": "Python 3",
   "language": "python",
   "name": "python3"
  },
  "language_info": {
   "codemirror_mode": {
    "name": "ipython",
    "version": 3
   },
   "file_extension": ".py",
   "mimetype": "text/x-python",
   "name": "python",
   "nbconvert_exporter": "python",
   "pygments_lexer": "ipython3",
   "version": "3.6.6"
  }
 },
 "nbformat": 4,
 "nbformat_minor": 2
}
